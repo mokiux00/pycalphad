{
 "cells": [
  {
   "cell_type": "markdown",
   "id": "0b20aa53-b0ae-434f-95ca-02b47b7d36b8",
   "metadata": {},
   "source": [
    "# Matrix of compositions to calculate liquidus temperature\n",
    "This code runs over a matrix of composition for Cr and Zr wuth Cu as remainder.\n",
    "It fixes a temperature range and runs equilibrium calculations\n",
    "The output are files with the equilibrium calculation for each composition combination and a summary file with the liqudius temperature for each calculated composition"
   ]
  },
  {
   "cell_type": "markdown",
   "id": "5b97655b-2090-4d64-80b6-dbdc6adc86f6",
   "metadata": {},
   "source": [
    "## Libraries"
   ]
  },
  {
   "cell_type": "code",
   "execution_count": 28,
   "id": "4afd0f04-8dee-4766-9727-5847d859a18e",
   "metadata": {},
   "outputs": [],
   "source": [
    "from pycalphad import Database, equilibrium, variables as v\n",
    "import matplotlib.pyplot as plt\n",
    "import numpy as np\n",
    "import pandas as pd\n",
    "from pycalphad.plot.utils import phase_legend\n",
    "import os"
   ]
  },
  {
   "cell_type": "markdown",
   "id": "060d0856-35be-41e1-b2c9-80a333e9421a",
   "metadata": {},
   "source": [
    "### Defining file paths for database"
   ]
  },
  {
   "cell_type": "code",
   "execution_count": 29,
   "id": "9ebbc334-9952-46ca-a6a5-1532c1f1c5fb",
   "metadata": {},
   "outputs": [],
   "source": [
    "dbf_diretory = r'C:\\PythonCode\\Environments\\Calphad\\pycalphad\\pycalphad codes\\1 - databases\\Copper\\\\'\n",
    "db_name = 'Cu-Cr-Zr-Ni_Test3.tdb'\n",
    "\n",
    "# dbf_diretory = r'C:\\PythonCode\\Environments\\Calphad\\pycalphad\\pycalphad codes\\1 - databases\\Copper\\\\'\n",
    "# dbf_diretory = r'C:\\PythonCode\\Environments\\Calphad\\pycalphad\\pycalphad codes\\1 - databases\\\\'"
   ]
  },
  {
   "cell_type": "markdown",
   "id": "bf1b5bb0-a7f2-446d-a3ac-a4684a3e6309",
   "metadata": {},
   "source": [
    "### Load database"
   ]
  },
  {
   "cell_type": "code",
   "execution_count": 30,
   "id": "ba4cefcf-1b8f-4747-8106-c4d4141406fa",
   "metadata": {},
   "outputs": [],
   "source": [
    "# dbf = Database(dbf_diretory + 'steel_database_fix.tdb') #Steel database \n",
    "# dbf = Database(dbf_diretory + 'Qiu_(2020)_calpha_101734_CuCrNi.tdb')\n",
    "# dbf = Database(dbf_diretory + 'Cu-Cr-Zr-Ni_Test3.tdb')\n",
    "dbf = Database(dbf_diretory + db_name)\n"
   ]
  },
  {
   "cell_type": "markdown",
   "id": "b9ec0264-00c1-4961-8675-0e38f324305e",
   "metadata": {},
   "source": [
    "### Determine phases"
   ]
  },
  {
   "cell_type": "code",
   "execution_count": 31,
   "id": "c2508741-ea78-4b7c-9055-8890912f086a",
   "metadata": {},
   "outputs": [
    {
     "name": "stdout",
     "output_type": "stream",
     "text": [
      "Available phases: ['LIQUID', 'FCC_A1', 'BCC_A2', 'HCP_A3', 'CU5ZR_C15B', 'CU9ZR2', 'CU51ZR14', 'CU8ZR3', 'CU10ZR7', 'CUZR', 'CUZR2', 'C14_LAVES', 'C15_LAVES', 'C36_LAVES']\n"
     ]
    }
   ],
   "source": [
    "# phases = list(dbf.phases.keys())\n",
    "\n",
    "phases = ['LIQUID', 'FCC_A1', 'BCC_A2', 'HCP_A3',\n",
    "           'CU5ZR_C15B', 'CU9ZR2', 'CU51ZR14', 'CU8ZR3', 'CU10ZR7', 'CUZR', 'CUZR2', 'C14_LAVES', 'C15_LAVES', 'C36_LAVES'] #For CuCrZr\n",
    "\n",
    "print(\"Available phases:\", phases)"
   ]
  },
  {
   "cell_type": "markdown",
   "id": "615a26cc-63f4-43cc-81b8-0cfbeb6f4a09",
   "metadata": {},
   "source": [
    "### Composition grid, temperature range, output folder"
   ]
  },
  {
   "cell_type": "code",
   "execution_count": 32,
   "id": "a7f0bf81-28f3-4b8b-bd23-e6d0e14706d9",
   "metadata": {},
   "outputs": [],
   "source": [
    "# --- Composition grid (wt%) ---\n",
    "cr_wt_grid = [0.45, 0.65, 0.85, 1.05, 1.15]  # Cr wt%\n",
    "zr_wt_grid = [0.05, 0.10, 0.15, 0.20, 0.25]  # Zr wt%\n",
    "\n",
    "# --- Temperature range (Kelvin) ---\n",
    "T_min = 1200.15\n",
    "T_max = 1773.15\n",
    "T_step = 0.5\n",
    "\n",
    "# --- Output directory ---\n",
    "output_dir = r'C:\\PythonCode\\Environments\\Calphad\\pycalphad\\pycalphad codes\\6 - Equilibrium phase compositions\\Copper\\\\'\n",
    "os.makedirs(output_dir, exist_ok=True)\n",
    "# --- Summary storage ---\n",
    "summary = []"
   ]
  },
  {
   "cell_type": "markdown",
   "id": "79c6e968-07d9-4a81-a73f-9cde21f977c8",
   "metadata": {},
   "source": [
    "### Loop over compositions"
   ]
  },
  {
   "cell_type": "code",
   "execution_count": 33,
   "id": "4c2442d1-211f-4ba4-9841-c48079d6a27e",
   "metadata": {},
   "outputs": [
    {
     "name": "stdout",
     "output_type": "stream",
     "text": [
      "Running equilibrium for Cu99.500Cr0.450Zr0.050\n",
      "Running equilibrium for Cu99.450Cr0.450Zr0.100\n",
      "Running equilibrium for Cu99.400Cr0.450Zr0.150\n",
      "Running equilibrium for Cu99.350Cr0.450Zr0.200\n",
      "Running equilibrium for Cu99.300Cr0.450Zr0.250\n",
      "Running equilibrium for Cu99.300Cr0.650Zr0.050\n",
      "Running equilibrium for Cu99.250Cr0.650Zr0.100\n",
      "Running equilibrium for Cu99.200Cr0.650Zr0.150\n",
      "Running equilibrium for Cu99.150Cr0.650Zr0.200\n",
      "Running equilibrium for Cu99.100Cr0.650Zr0.250\n",
      "Running equilibrium for Cu99.100Cr0.850Zr0.050\n",
      "Running equilibrium for Cu99.050Cr0.850Zr0.100\n",
      "Running equilibrium for Cu99.000Cr0.850Zr0.150\n",
      "Running equilibrium for Cu98.950Cr0.850Zr0.200\n",
      "Running equilibrium for Cu98.900Cr0.850Zr0.250\n",
      "Running equilibrium for Cu98.900Cr1.050Zr0.050\n",
      "Running equilibrium for Cu98.850Cr1.050Zr0.100\n",
      "Running equilibrium for Cu98.800Cr1.050Zr0.150\n",
      "Running equilibrium for Cu98.750Cr1.050Zr0.200\n",
      "Running equilibrium for Cu98.700Cr1.050Zr0.250\n",
      "Running equilibrium for Cu98.800Cr1.150Zr0.050\n",
      "Running equilibrium for Cu98.750Cr1.150Zr0.100\n",
      "Running equilibrium for Cu98.700Cr1.150Zr0.150\n",
      "Running equilibrium for Cu98.650Cr1.150Zr0.200\n",
      "Running equilibrium for Cu98.600Cr1.150Zr0.250\n"
     ]
    }
   ],
   "source": [
    "for cr_wt in cr_wt_grid:\n",
    "    for zr_wt in zr_wt_grid:\n",
    "        # Mass fractions dictionary (Cu is remainder automatically)\n",
    "        mass_fracs = {v.W('CR'): cr_wt/100, v.W('ZR'): zr_wt/100}\n",
    "\n",
    "        # Compose string for filenames\n",
    "        cu_wt = 100 - cr_wt - zr_wt\n",
    "        comp_str = f'Cu{cu_wt:.3f}Cr{cr_wt:.3f}Zr{zr_wt:.3f}'\n",
    "        print(f'Running equilibrium for {comp_str}')\n",
    "\n",
    "        # Get mole fractions automatically\n",
    "        conds = v.get_mole_fractions(mass_fracs, 'CU', dbf)\n",
    "        conds[v.T] = (T_min, T_max, T_step)\n",
    "        conds[v.P] = 1e5\n",
    "        conds[v.N] = 1\n",
    "\n",
    "        # Run equilibrium\n",
    "        eq = equilibrium(dbf, ['CU','CR','ZR','VA'], phases, conds)\n",
    "\n",
    "        # Broadcast temperatures to NP shape\n",
    "        T_arr = eq.T.broadcast_like(eq.NP).values - 273.15  # Celsius\n",
    "        phase_arr = eq.Phase.values\n",
    "        frac_arr = eq.NP.values\n",
    "\n",
    "        # Unique phases in this calculation\n",
    "        unique_phases = sorted(set(phase_arr.flatten()) - {''})\n",
    "\n",
    "        # Prepare data dictionary\n",
    "        data = {\"Temperature (°C)\": np.unique(T_arr)}\n",
    "\n",
    "        for ph in unique_phases:\n",
    "            fractions = []\n",
    "            for T in data[\"Temperature (°C)\"]:\n",
    "                mask = (T_arr == T) & (phase_arr == ph)\n",
    "                if np.any(mask):\n",
    "                    fractions.append(frac_arr[mask].max())  # take max fraction at this T\n",
    "                else:\n",
    "                    fractions.append(0)\n",
    "            data[ph] = fractions\n",
    "\n",
    "        df = pd.DataFrame(data)\n",
    "        df[\"Sum of Phases\"] = df[unique_phases].sum(axis=1)\n",
    "\n",
    "        # --- Save per-composition CSV ---\n",
    "        csv_file = os.path.join(output_dir, f'Eq_{comp_str}.csv')\n",
    "        with open(csv_file, 'w') as f:\n",
    "            f.write(f'Database: {db_name}\\n')\n",
    "            f.write(f'Composition (wt%): CU={cu_wt:.3f}, CR={cr_wt:.3f}, ZR={zr_wt:.3f}\\n')\n",
    "            f.write(f'Temperature range (K): {T_min} - {T_max} step {T_step}\\n')\n",
    "        df.to_csv(csv_file, mode='a', index=False)\n"
   ]
  },
  {
   "cell_type": "code",
   "execution_count": 34,
   "id": "ac2ff66f-ccde-48c3-8d2a-97e7f94e325c",
   "metadata": {},
   "outputs": [
    {
     "name": "stdout",
     "output_type": "stream",
     "text": [
      "Summary successfully saved to C:\\PythonCode\\Environments\\Calphad\\pycalphad\\pycalphad codes\\6 - Equilibrium phase compositions\\Copper\\Liquidus_summary.csv\n"
     ]
    }
   ],
   "source": [
    "import os\n",
    "import pandas as pd\n",
    "import numpy as np\n",
    "\n",
    "# --- Directory containing equilibrium CSV files ---\n",
    "output_dir = r'C:\\PythonCode\\Environments\\Calphad\\pycalphad\\pycalphad codes\\6 - Equilibrium phase compositions\\Copper'\n",
    "\n",
    "# --- Summary storage ---\n",
    "summary = []\n",
    "\n",
    "# Loop over all CSV files in the output directory\n",
    "for csv_file in os.listdir(output_dir):\n",
    "    if csv_file.endswith(\".csv\") and csv_file.startswith(\"Eq_\"):\n",
    "        path = os.path.join(output_dir, csv_file)\n",
    "\n",
    "        # Skip the first 3 rows of header info\n",
    "        df = pd.read_csv(path, skiprows=3)\n",
    "\n",
    "        if 'LIQUID' not in df.columns:\n",
    "            continue\n",
    "\n",
    "        # Make sure temperatures are sorted ascending\n",
    "        df_sorted = df.sort_values('Temperature (°C)', ascending=True).reset_index(drop=True)\n",
    "\n",
    "        # Find where LIQUID transitions from 1 to <1\n",
    "        liq_vals = df_sorted['LIQUID'].values\n",
    "        temps = df_sorted['Temperature (°C)'].values\n",
    "\n",
    "        liquidus_temp = None\n",
    "        for i in range(1, len(liq_vals)):\n",
    "            if liq_vals[i-1] == 1 and liq_vals[i] < 1:\n",
    "                liquidus_temp = temps[i]\n",
    "                break\n",
    "\n",
    "        # Extract composition from filename\n",
    "        comp_str = csv_file.replace(\"Eq_\", \"\").replace(\".csv\", \"\")\n",
    "        summary.append({\n",
    "            \"Composition\": comp_str,\n",
    "            \"Liquidus Temperature (C)\": liquidus_temp\n",
    "        })\n",
    "\n",
    "# Convert to DataFrame\n",
    "summary_df = pd.DataFrame(summary)\n",
    "\n",
    "# Save summary CSV in the same directory\n",
    "summary_file = os.path.join(output_dir, \"Liquidus_summary.csv\")\n",
    "summary_df.to_csv(summary_file, index=False)\n",
    "print(f\"Summary successfully saved to {summary_file}\")\n"
   ]
  }
 ],
 "metadata": {
  "kernelspec": {
   "display_name": "Python 3 (ipykernel)",
   "language": "python",
   "name": "python3"
  },
  "language_info": {
   "codemirror_mode": {
    "name": "ipython",
    "version": 3
   },
   "file_extension": ".py",
   "mimetype": "text/x-python",
   "name": "python",
   "nbconvert_exporter": "python",
   "pygments_lexer": "ipython3",
   "version": "3.12.4"
  }
 },
 "nbformat": 4,
 "nbformat_minor": 5
}
