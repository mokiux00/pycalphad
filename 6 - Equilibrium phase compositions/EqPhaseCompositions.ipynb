{
 "cells": [
  {
   "cell_type": "markdown",
   "id": "0b20aa53-b0ae-434f-95ca-02b47b7d36b8",
   "metadata": {},
   "source": [
    "# Plotting Phase fraction vs T"
   ]
  },
  {
   "cell_type": "markdown",
   "id": "5b97655b-2090-4d64-80b6-dbdc6adc86f6",
   "metadata": {},
   "source": [
    "## Libraries"
   ]
  },
  {
   "cell_type": "code",
   "execution_count": 78,
   "id": "4afd0f04-8dee-4766-9727-5847d859a18e",
   "metadata": {},
   "outputs": [],
   "source": [
    "from pycalphad import Database, equilibrium, variables as v\n",
    "import matplotlib.pyplot as plt\n",
    "import numpy as np\n",
    "from pycalphad.plot.utils import phase_legend"
   ]
  },
  {
   "cell_type": "markdown",
   "id": "060d0856-35be-41e1-b2c9-80a333e9421a",
   "metadata": {},
   "source": [
    "### Defining file paths for database"
   ]
  },
  {
   "cell_type": "code",
   "execution_count": 79,
   "id": "9ebbc334-9952-46ca-a6a5-1532c1f1c5fb",
   "metadata": {},
   "outputs": [],
   "source": [
    "dbf_diretory = r'C:\\PythonCode\\Environments\\Calphad\\pycalphad\\pycalphad codes\\1 - databases\\\\'"
   ]
  },
  {
   "cell_type": "markdown",
   "id": "bf1b5bb0-a7f2-446d-a3ac-a4684a3e6309",
   "metadata": {},
   "source": [
    "### Load database"
   ]
  },
  {
   "cell_type": "code",
   "execution_count": 80,
   "id": "ba4cefcf-1b8f-4747-8106-c4d4141406fa",
   "metadata": {},
   "outputs": [],
   "source": [
    "# dbf = Database(dbf_diretory + 'COST507_Sundman.tdb') #Aluminum database\n",
    "# dbf = Database(dbf_diretory + 'COST507_Original.tdb') #Aluminum database\n",
    "# dbf = Database(dbf_diretory + 'mc_al_v2.032.pycalphad.tdb') #Aluminum database\n",
    "# dbf = Database(dbf_diretory + 'mc_al_v2.032.pycalphad_with_ZR_COST507_Sund.tdb') #Combined for Zr and Sc\n",
    "dbf = Database(dbf_diretory + 'COST507_Sundman_w_Sc-test.tdb') #Aluminum database addition of Sc (GOOD)\n"
   ]
  },
  {
   "cell_type": "markdown",
   "id": "b9ec0264-00c1-4961-8675-0e38f324305e",
   "metadata": {},
   "source": [
    "### Determine phases"
   ]
  },
  {
   "cell_type": "code",
   "execution_count": 81,
   "id": "c2508741-ea78-4b7c-9055-8890912f086a",
   "metadata": {},
   "outputs": [
    {
     "name": "stdout",
     "output_type": "stream",
     "text": [
      "['LIQUID', 'FCC_A1', 'AL3ZR', 'AL3SC', 'AL4MN', 'AL6MN']\n"
     ]
    }
   ],
   "source": [
    "#phases = ['LIQUID', 'FCC_A1', 'DIAMOND_A4'] #For Al-Si\n",
    "#phases = ['LIQUID', 'FCC_A1', 'DIAMOND_A4'] #For Al-Si\n",
    "# phases = ['LIQUID', 'FCC_A1', 'DIAMOND_A4', 'AL3M_DO22',] #For Al-Si\n",
    "\n",
    "# phases = list(dbf.phases.keys())\n",
    "# phases = ['LIQUID', 'FCC_A1', 'AL3ZR'] #For Al-ZR\n",
    "# phases = ['LIQUID', 'FCC_A1', 'HCP_A3', 'BCC_A2', 'AL3SC', 'AL2SC', 'ALSC'] #For Al-Sc\n",
    "# phases = ['LIQUID', 'FCC_A1', 'AL3ZR', 'HCP_A3', 'BCC_A2', 'AL3SC', 'AL2SC', 'ALSC'] #For Al-ZR-Sc\n",
    "phases = ['LIQUID', 'FCC_A1', 'AL3ZR', 'AL3SC', 'AL4MN','AL6MN',] #For Al-ZR-SC-MN\n",
    "\n",
    "\n",
    "print(phases)"
   ]
  },
  {
   "cell_type": "code",
   "execution_count": 83,
   "id": "f999649b-cc00-4b8c-8722-331092f8ffff",
   "metadata": {},
   "outputs": [],
   "source": [
    "# For specifying in terms of mass fractions; can also specify in mole fractions using v.X\n",
    "# mass_fracs = {v.W('CR'): 18./100, v.W('NI'): 8.0/100}\n",
    "# mass_fracs = {v.W('SI'): 10./100, v.W('MG'): 3/100}\n",
    "# mass_fracs = {v.W('ZR'): 1.4/100} #Al-Zr\n",
    "# mass_fracs = {v.W('ZR'): 2.0/100, v.W('SC'): 0.2/100} #AL-ZR-SC\n",
    "mass_fracs = {v.W('ZR'): 2.0/100, v.W('SC'): 0.2/100, v.W('MN'): 4.0/100} #AL-ZR-SC\n",
    "\n",
    "# mass_fracs = {v.W('SI'): 12.0/100, v.W('CU'): 4.2/100, v.W('FE'): 0.6/100, v.W('MG'): 0.3/100, v.W('MN'): 0.4/100, v.W('ZN'): 0.8/100, v.W('NI'): 0.01/100, v.W('TI'): 1./100}\n",
    "\n",
    "\n",
    "conds = v.get_mole_fractions(mass_fracs, 'AL', dbf)\n",
    "\n",
    "conds[v.T] = (663.15, 2000, 0.05) # Kelvin\n",
    "conds[v.P] = 1e5 # Pa\n",
    "conds[v.N] = 1\n",
    "eq = equilibrium(dbf, ['ZR', 'SC','MN','AL','VA'], phases, conds)\n",
    "# eq = equilibrium(dbf, ['SI', 'CU', 'FE', 'MG', 'MN', 'ZN', 'NI', 'TI', 'AL',  'VA'], phases, conds)"
   ]
  },
  {
   "cell_type": "code",
   "execution_count": 84,
   "id": "3168ce9b-4ffa-4d02-b3c2-d1b31e1988f9",
   "metadata": {},
   "outputs": [
    {
     "name": "stdout",
     "output_type": "stream",
     "text": [
      "[np.str_('AL3SC'), np.str_('AL3ZR'), np.str_('AL4MN'), np.str_('AL6MN'), np.str_('FCC_A1'), np.str_('LIQUID')]\n"
     ]
    }
   ],
   "source": [
    "phases = sorted(set(eq.Phase.values.flatten()) - {''})\n",
    "phase_handles, phasemap = phase_legend(phases)\n",
    "print (phases)"
   ]
  },
  {
   "cell_type": "code",
   "execution_count": 85,
   "id": "7b5252e9-6e71-42c8-8602-46edc539c4f7",
   "metadata": {
    "scrolled": true
   },
   "outputs": [
    {
     "data": {
      "text/plain": [
       "<matplotlib.legend.Legend at 0x1b16d9c5b50>"
      ]
     },
     "execution_count": 85,
     "metadata": {},
     "output_type": "execute_result"
    },
    {
     "data": {
      "image/png": "[encoded data removed]",
      "text/plain": [
       "<Figure size 640x480 with 1 Axes>"
      ]
     },
     "metadata": {},
     "output_type": "display_data"
    }
   ],
   "source": [
    "plt.gca().set_title('Phase fractions vs T')\n",
    "plt.gca().set_xlabel('Temperature (Celsius)')\n",
    "plt.gca().set_ylabel('Phase Fraction')\n",
    "plt.gca().set_ylim((0,1.1))\n",
    "plt.gca().set_xlim((300-273.15, 2000-273.15))\n",
    "\n",
    "for name in phases:\n",
    "    plt.scatter(eq.T.broadcast_like(eq.NP)-273.15, eq.NP.where(eq.Phase == name), color=phasemap[name], s=3)\n",
    "plt.gca().legend(phase_handles, phases, loc='upper left')"
   ]
  },
  {
   "cell_type": "code",
   "execution_count": null,
   "id": "784ad581-01fb-4a1b-84a8-ad0aa766b247",
   "metadata": {
    "scrolled": true
   },
   "outputs": [],
   "source": []
  },
  {
   "cell_type": "code",
   "execution_count": null,
   "id": "6a4c13c1-9d1e-44eb-8368-a670d90eb65f",
   "metadata": {},
   "outputs": [],
   "source": []
  }
 ],
 "metadata": {
  "kernelspec": {
   "display_name": "Python 3 (ipykernel)",
   "language": "python",
   "name": "python3"
  },
  "language_info": {
   "codemirror_mode": {
    "name": "ipython",
    "version": 3
   },
   "file_extension": ".py",
   "mimetype": "text/x-python",
   "name": "python",
   "nbconvert_exporter": "python",
   "pygments_lexer": "ipython3",
   "version": "3.12.4"
  }
 },
 "nbformat": 4,
 "nbformat_minor": 5
}
