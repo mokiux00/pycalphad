{
 "cells": [
  {
   "cell_type": "markdown",
   "metadata": {},
   "source": [
    "# Scheil-Gulliver simulation tool"
   ]
  },
  {
   "cell_type": "markdown",
   "metadata": {},
   "source": [
    "## Importing modules"
   ]
  },
  {
   "cell_type": "code",
   "execution_count": 41,
   "metadata": {},
   "outputs": [],
   "source": [
    "import matplotlib.pyplot as plt\n",
    "from pycalphad import Database, variables as v\n",
    "from scheil import simulate_scheil_solidification\n",
    "import numpy as np\n"
   ]
  },
  {
   "cell_type": "markdown",
   "metadata": {},
   "source": [
    "### Defining file paths for program and database"
   ]
  },
  {
   "cell_type": "code",
   "execution_count": 42,
   "metadata": {},
   "outputs": [],
   "source": [
    "dbf_diretory = r'C:\\PythonCode\\Environments\\Calphad\\pycalphad\\pycalphad codes\\1 - databases\\\\'"
   ]
  },
  {
   "cell_type": "markdown",
   "metadata": {},
   "source": [
    "### Datbase"
   ]
  },
  {
   "cell_type": "code",
   "execution_count": 43,
   "metadata": {},
   "outputs": [],
   "source": [
    "# dbf = Database(dbf_diretory + 'COST507_Sundman.tdb') #Aluminum database\n",
    "# dbf = Database(dbf_diretory + 'COST507_Original.tdb') #Aluminum database\n",
    "# dbf = Database(dbf_diretory + 'mc_al_v2.032.pycalphad.tdb') #Aluminum database\n",
    "# dbf = Database(dbf_diretory + 'mc_al_v2.032.pycalphad_with_ZR_COST507_Sund.tdb') #Combined for Zr and Sc\n",
    "dbf = Database(dbf_diretory + 'COST507_Sundman_w_Sc-test.tdb') #Aluminum database addition of Sc (GOOD)\n"
   ]
  },
  {
   "cell_type": "markdown",
   "metadata": {},
   "source": [
    "### setup the simulation parameters\n"
   ]
  },
  {
   "cell_type": "code",
   "execution_count": 63,
   "metadata": {},
   "outputs": [
    {
     "data": {
      "text/plain": [
       "['LIQUID', 'FCC_A1', 'AL3ZR', 'AL3SC', 'AL4MN', 'AL6MN']"
      ]
     },
     "execution_count": 63,
     "metadata": {},
     "output_type": "execute_result"
    }
   ],
   "source": [
    "comps = ['AL', 'ZR', 'SC', 'MN', 'VA']\n",
    "# comps = ['SI', 'CU', 'FE', 'MG', 'MN', 'ZN', 'NI', 'TI', 'AL',  'VA']\n",
    "\n",
    "# phases = sorted(dbf.phases.keys())\n",
    "# phases = ['LIQUID', 'FCC_A1', 'AL3ZR'] #For Al-ZR\n",
    "# phases = ['LIQUID', 'FCC_A1', 'AL3ZR', 'HCP_A3', 'BCC_A2', 'AL3SC', 'AL2SC', 'ALSC'] #For Al-ZR-Sc\n",
    "# phases = ['LIQUID', 'FCC_A1', 'AL3ZR', 'AL3SC'] #For Al-ZR-Sc\n",
    "phases = ['LIQUID', 'FCC_A1', 'AL3ZR', 'AL3SC', 'AL4MN','AL6MN',] #For Al-ZR-SC-MN\n",
    "phases"
   ]
  },
  {
   "cell_type": "code",
   "execution_count": 64,
   "metadata": {},
   "outputs": [],
   "source": [
    "liquid_phase_name = 'LIQUID'\n",
    "# initial_composition = {v.X('ZR'): 1.5/100}\n",
    "# initial_composition = {v.X('ZR'): 2.0/100, v.X('SC'): 0.9/100} #AL-ZR-SC\n",
    "initial_composition = {v.X('ZR'): 2.0/100, v.X('SC'): 0.9/100, v.X('MN'): 4.0/100} #AL-ZR-SC-MN\n",
    "\n",
    "\n",
    "# initial_composition = {v.W('SI'): 12.0/100, v.W('CU'): 4.2/100, v.W('FE'): 0.6/100, v.W('MG'): 0.3/100, v.W('MN'): 0.4/100, v.W('ZN'): 0.8/100, v.W('NI'): 0.01/100, v.W('TI'): 1./100}\n",
    "start_temperature = 1500"
   ]
  },
  {
   "cell_type": "markdown",
   "metadata": {},
   "source": [
    "### Perform simulation"
   ]
  },
  {
   "cell_type": "code",
   "execution_count": 65,
   "metadata": {},
   "outputs": [
    {
     "name": "stdout",
     "output_type": "stream",
     "text": [
      "eq_phases ['LIQUID', '', '', '', '']\n",
      "eq_phases ['LIQUID', '', '', '', '']\n",
      "eq_phases ['LIQUID', '', '', '', '']\n",
      "eq_phases ['LIQUID', '', '', '', '']\n",
      "eq_phases ['LIQUID', 'AL3ZR', '', '', '']\n",
      "eq_phases ['LIQUID', 'AL3ZR', '', '', '']\n",
      "eq_phases ['LIQUID', 'AL3ZR', '', '', '']\n",
      "eq_phases ['LIQUID', 'AL3ZR', '', '', '']\n",
      "eq_phases ['LIQUID', 'AL3ZR', '', '', '']\n",
      "eq_phases ['LIQUID', 'AL3ZR', '', '', '']\n",
      "eq_phases ['LIQUID', 'AL3ZR', '', '', '']\n",
      "eq_phases ['LIQUID', 'AL3ZR', '', '', '']\n",
      "eq_phases ['LIQUID', 'AL3ZR', '', '', '']\n",
      "eq_phases ['LIQUID', 'AL3ZR', '', '', '']\n",
      "eq_phases ['LIQUID', 'AL3ZR', '', '', '']\n",
      "eq_phases ['LIQUID', 'AL3ZR', '', '', '']\n",
      "eq_phases ['LIQUID', 'AL3ZR', '', '', '']\n",
      "eq_phases ['LIQUID', 'AL3ZR', '', '', '']\n",
      "eq_phases ['LIQUID', 'AL3ZR', '', '', '']\n",
      "eq_phases ['LIQUID', 'AL3ZR', '', '', '']\n",
      "eq_phases ['LIQUID', 'AL3ZR', '', '', '']\n",
      "eq_phases ['LIQUID', 'AL3ZR', '', '', '']\n",
      "eq_phases ['LIQUID', 'AL3ZR', '', '', '']\n",
      "eq_phases ['LIQUID', 'AL3ZR', '', '', '']\n",
      "eq_phases ['LIQUID', 'AL3ZR', '', '', '']\n",
      "eq_phases ['LIQUID', 'AL3ZR', '', '', '']\n",
      "eq_phases ['LIQUID', 'AL3ZR', '', '', '']\n",
      "eq_phases ['LIQUID', 'AL3ZR', '', '', '']\n",
      "eq_phases ['LIQUID', 'AL3ZR', '', '', '']\n",
      "eq_phases ['LIQUID', 'AL3ZR', '', '', '']\n",
      "eq_phases ['LIQUID', 'AL3ZR', '', '', '']\n",
      "eq_phases ['LIQUID', 'AL3ZR', '', '', '']\n",
      "eq_phases ['LIQUID', 'AL3ZR', '', '', '']\n",
      "eq_phases ['LIQUID', 'AL3ZR', '', '', '']\n",
      "eq_phases ['LIQUID', 'AL3ZR', '', '', '']\n",
      "eq_phases ['LIQUID', 'AL3ZR', '', '', '']\n",
      "eq_phases ['LIQUID', 'AL3SC', 'AL3ZR', '', '']\n",
      "eq_phases ['LIQUID', 'AL3SC', 'AL3ZR', '', '']\n",
      "eq_phases ['AL3SC', 'LIQUID', 'AL3ZR', '', '']\n",
      "eq_phases ['LIQUID', 'AL3SC', 'AL3ZR', '', '']\n",
      "eq_phases ['LIQUID', 'AL3SC', 'AL3ZR', '', '']\n",
      "eq_phases ['LIQUID', 'AL3SC', 'AL3ZR', '', '']\n",
      "eq_phases ['LIQUID', 'AL3SC', 'AL3ZR', '', '']\n",
      "eq_phases ['LIQUID', 'AL3SC', 'AL3ZR', 'AL4MN', '']\n",
      "eq_phases ['LIQUID', 'AL4MN', 'AL3SC', 'AL3ZR', '']\n",
      "eq_phases ['LIQUID', 'AL4MN', 'AL3SC', 'AL3ZR', '']\n",
      "eq_phases ['LIQUID', 'AL4MN', 'AL3SC', 'AL3ZR', '']\n",
      "eq_phases ['LIQUID', 'AL4MN', 'AL3SC', 'AL3ZR', '']\n",
      "eq_phases ['LIQUID', 'AL4MN', 'AL3SC', 'AL3ZR', '']\n",
      "eq_phases ['LIQUID', 'AL3SC', 'AL3ZR', 'AL4MN', '']\n",
      "eq_phases ['LIQUID', 'AL4MN', 'AL3SC', 'AL3ZR', '']\n",
      "eq_phases ['LIQUID', 'AL4MN', 'AL3SC', 'AL3ZR', '']\n",
      "eq_phases ['LIQUID', 'AL4MN', 'AL3SC', 'AL3ZR', '']\n",
      "eq_phases ['LIQUID', 'AL6MN', 'AL3SC', 'AL3ZR', '']\n",
      "eq_phases ['LIQUID', 'AL6MN', 'AL3SC', 'AL3ZR', '']\n",
      "eq_phases ['AL3SC', 'LIQUID', 'AL6MN', 'AL3ZR', '']\n",
      "eq_phases ['AL6MN', 'LIQUID', 'AL3ZR', 'AL3SC', '']\n",
      "eq_phases ['AL6MN', 'AL3SC', 'FCC_A1', '', '']\n",
      "eq_phases ['LIQUID', 'AL6MN', 'AL3SC', 'AL3ZR', '']\n",
      "eq_phases ['AL6MN', 'AL3SC', 'FCC_A1', '', '']\n",
      "eq_phases ['AL6MN', 'AL3SC', 'FCC_A1', '', '']\n",
      "eq_phases ['AL6MN', 'AL3SC', 'FCC_A1', '', '']\n",
      "eq_phases ['FCC_A1', 'AL6MN', 'AL3SC', '', '']\n",
      "eq_phases ['AL6MN', 'AL3SC', 'FCC_A1', '', '']\n",
      "eq_phases ['AL6MN', 'AL3SC', 'FCC_A1', '', '']\n",
      "eq_phases ['FCC_A1', 'AL6MN', 'AL3SC', '', '']\n",
      "eq_phases ['FCC_A1', 'AL6MN', 'AL3SC', '', '']\n",
      "eq_phases ['AL6MN', 'AL3SC', 'FCC_A1', '', '']\n"
     ]
    }
   ],
   "source": [
    "sol_res = simulate_scheil_solidification(dbf, comps, phases, initial_composition, start_temperature, step_temperature=10)"
   ]
  },
  {
   "cell_type": "markdown",
   "metadata": {},
   "source": [
    "### plot the result"
   ]
  },
  {
   "cell_type": "code",
   "execution_count": 66,
   "metadata": {},
   "outputs": [
    {
     "data": {
      "image/png": "[encoded data removed]",
      "text/plain": [
       "<Figure size 640x480 with 1 Axes>"
      ]
     },
     "metadata": {},
     "output_type": "display_data"
    }
   ],
   "source": [
    "for phase_name, amounts in sol_res.cum_phase_amounts.items():\n",
    "    plt.plot(sol_res.temperatures, amounts, label=phase_name)\n",
    "\n",
    "plt.plot(sol_res.temperatures, sol_res.fraction_liquid, label='LIQUID')\n",
    "plt.ylabel('Phase Fraction')\n",
    "plt.xlabel('Temperature (K)')\n",
    "# plt.title('Al-30Zn Scheil simulation, phase fractions')\n",
    "plt.legend(loc='best')\n",
    "plt.show()"
   ]
  },
  {
   "cell_type": "code",
   "execution_count": null,
   "metadata": {},
   "outputs": [],
   "source": []
  },
  {
   "cell_type": "code",
   "execution_count": null,
   "metadata": {},
   "outputs": [],
   "source": []
  }
 ],
 "metadata": {
  "kernelspec": {
   "display_name": "Python 3 (ipykernel)",
   "language": "python",
   "name": "python3"
  },
  "language_info": {
   "codemirror_mode": {
    "name": "ipython",
    "version": 3
   },
   "file_extension": ".py",
   "mimetype": "text/x-python",
   "name": "python",
   "nbconvert_exporter": "python",
   "pygments_lexer": "ipython3",
   "version": "3.12.4"
  }
 },
 "nbformat": 4,
 "nbformat_minor": 4
}
